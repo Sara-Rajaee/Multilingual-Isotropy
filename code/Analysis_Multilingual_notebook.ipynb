{
  "nbformat": 4,
  "nbformat_minor": 0,
  "metadata": {
    "accelerator": "GPU",
    "colab": {
      "name": "Analysis-Multilingual-notebook.ipynb",
      "provenance": [],
      "collapsed_sections": []
    },
    "kernelspec": {
      "display_name": "Python 3",
      "name": "python3"
    }
  },
  "cells": [
    {
      "cell_type": "code",
      "metadata": {
        "id": "nKyBFTRpgwwS"
      },
      "source": [
        "from IPython.display import clear_output\n",
        "!pip install transformers==2.11\n",
        "clear_output()"
      ],
      "execution_count": 1,
      "outputs": []
    },
    {
      "cell_type": "code",
      "source": [
        "from google.colab import drive\n",
        "drive.mount('/content/drive')"
      ],
      "metadata": {
        "colab": {
          "base_uri": "https://localhost:8080/"
        },
        "id": "Hvzu9sVna_Ah",
        "outputId": "2fb2e083-26a8-449d-c305-a7d41198b22e"
      },
      "execution_count": 45,
      "outputs": [
        {
          "output_type": "stream",
          "name": "stdout",
          "text": [
            "Mounted at /content/drive\n"
          ]
        }
      ]
    },
    {
      "cell_type": "code",
      "metadata": {
        "id": "ZkyEMOlUhM8P"
      },
      "source": [
        "import numpy as np\n",
        "import pandas as pd\n",
        "from transformers import *\n",
        "import tensorflow as tf\n",
        "import pickle\n",
        "import scipy as sc\n",
        "import math as mt\n",
        "from sklearn.metrics.pairwise import cosine_similarity\n",
        "import random\n",
        "from random import randint\n",
        "from matplotlib.pyplot import figure\n",
        "import matplotlib.pyplot as plt\n",
        "import matplotlib.pyplot as plt\n",
        "import seaborn as sns"
      ],
      "execution_count": 44,
      "outputs": []
    },
    {
      "cell_type": "code",
      "source": [
        "### Loading Wikipedia datasets\n",
        "df_su = pd.read_csv('/content/Sundanese.csv', sep = ',')\n",
        "df_sw = pd.read_csv('/content/sawahili.csv', sep = ',')\n",
        "df_en = pd.read_csv('/content/English.csv', sep = ',')\n",
        "df_es = pd.read_csv('/content/Spanish.csv', sep = ',')\n",
        "df_ar = pd.read_csv('/content/Arabic.csv', sep = ',')\n",
        "df_tr = pd.read_csv('/content/Turkish.csv', sep = ',')\n"
      ],
      "metadata": {
        "id": "r9FhCHylV_1t"
      },
      "execution_count": 4,
      "outputs": []
    },
    {
      "cell_type": "code",
      "metadata": {
        "id": "8GxlAcnGhhEA"
      },
      "source": [
        "###Loading mBERT\n",
        "casing = \"bert-base-multilingual-uncased\"\n",
        "tokenizer_mBERT = BertTokenizer.from_pretrained(casing, do_lower_case=True, add_special_tokens=True)\n",
        "config = BertConfig(casing, output_hidden_states=True)\n",
        "mBERT = TFBertModel.from_pretrained(casing)\n",
        "mBERT.trainable = False\n",
        "\n",
        "###Loading BERT\n",
        "# casing = \"bert-base-uncased\" \n",
        "# config = BertConfig.from_pretrained(casing,output_hidden_states = True)\n",
        "# tokenizer_BERT = BertTokenizer.from_pretrained(casing)\n",
        "# BERT = TFBertModel.from_pretrained(casing, config = config)\n",
        "\n",
        "###Loading RoBERTa\n",
        "# casing = \"roberta-base\"\n",
        "# tokenizer_RoBERTa = RobertaTokenizer.from_pretrained(casing)\n",
        "# config = RobertaConfig.from_pretrained(casing)\n",
        "# RoBERTa = TFRobertaModel.from_pretrained(casing, config=config)\n",
        "\n",
        "###Loading XLM-R\n",
        "# casing = 'xlm-roberta-base'\n",
        "# tokenizer_XLM = AutoTokenizer.from_pretrained(casing)\n",
        "# transformer_model = TFAutoModel.from_pretrained(casing, from_pt=True)\n"
      ],
      "execution_count": 36,
      "outputs": []
    },
    {
      "cell_type": "code",
      "source": [
        "def text2rep(model, tokenizer, df, dimension = 768):\n",
        "\n",
        "  representation = []\n",
        "  for i in range(len(df)):\n",
        "\n",
        "        inputs = tokenizer.encode(df['Sentence'].iloc[i], add_special_tokens=False)\n",
        "        inputs = np.asarray(inputs, dtype='int32').reshape((1,-1))\n",
        "        output = model(inputs)[0]\n",
        "        for j in range(output.shape[1]):\n",
        "            representation.append(output[0][j])\n",
        "\n",
        "  return representation\n"
      ],
      "metadata": {
        "id": "xBRRuzgmN6hM"
      },
      "execution_count": 18,
      "outputs": []
    },
    {
      "cell_type": "code",
      "source": [
        "def isotropy(representations):\n",
        "    \"\"\"Calculating isotropy of embedding space based on I_PC\n",
        "           arg:\n",
        "              representations (n_samples, n_dimensions)\n",
        "            \"\"\"\n",
        "\n",
        "    eig_values, eig_vectors = np.linalg.eig(np.matmul(np.transpose(representations),\n",
        "                                                      representations))\n",
        "    max_f = -mt.inf\n",
        "    min_f =  mt.inf\n",
        "\n",
        "    for i in range(eig_vectors.shape[1]):\n",
        "        f = np.matmul(representations, np.expand_dims(eig_vectors[:, i], 1))\n",
        "        f = np.sum(np.exp(f))\n",
        "\n",
        "        min_f = min(min_f, f)\n",
        "        max_f = max(max_f, f)\n",
        "\n",
        "    isotropy = min_f / max_f\n",
        "\n",
        "    return isotropy"
      ],
      "metadata": {
        "id": "Xj0sSFKSZlmI"
      },
      "execution_count": 50,
      "outputs": []
    },
    {
      "cell_type": "code",
      "source": [
        "def Cosine_Contribution(representation, n):\n",
        "    contribution = []\n",
        "    num = 1000\n",
        "    for i in range(num):\n",
        "      n1 = random.randint(0, len(representation)-1)\n",
        "      n2 = random.randint(0, len(representation)-1)\n",
        "      if n1 !=n2:\n",
        "          contribution.append(np.multiply(representation[n1], representation[n2]) / \n",
        "                              (np.linalg.norm(representation[n1]) * np.linalg.norm(representation[n2])))\n",
        "          \n",
        "    sim = []\n",
        "    for i in range(num):\n",
        "      n1 = random.randint(0, len(representation)-1)\n",
        "      n2 = random.randint(0, len(representation)-1)\n",
        "      if n1 !=n2:\n",
        "          sim.append(cosine_similarity(np.reshape(representation[n1], (1,-1)), np.reshape(representation[n2], (1, -1)))[0][0])\n",
        "\n",
        "    ary = np.mean(contribution, axis=0) / np.mean(sim)\n",
        "\n",
        "    return ary[np.argsort(ary)[-n:]]"
      ],
      "metadata": {
        "id": "4puqM1WUZrnl"
      },
      "execution_count": null,
      "outputs": []
    },
    {
      "cell_type": "code",
      "source": [
        "rep_su = text2rep(mBERT, tokenizer_mBERT, df_su)\n",
        "rep_sw = text2rep(mBERT, tokenizer_mBERT, df_sw)\n",
        "rep_en = text2rep(mBERT, tokenizer_mBERT, df_en)\n",
        "rep_es = text2rep(mBERT, tokenizer_mBERT, df_es)\n",
        "rep_ar = text2rep(mBERT, tokenizer_mBERT, df_ar)\n",
        "rep_tr = text2rep(mBERT, tokenizer_mBERT, df_tr)\n",
        "\n",
        "rep_en_mono = text2rep(BERT, tokenizer_BERT, df_tr)"
      ],
      "metadata": {
        "id": "vLHsPMofPVhd"
      },
      "execution_count": null,
      "outputs": []
    },
    {
      "cell_type": "code",
      "source": [
        "#### Randomly selecting 10000 representations\n",
        "rd_su = random.sample(range(0, len(rep_su)), 10000)\n",
        "rd_sw = random.sample(range(0, len(rep_sw)), 10000)\n",
        "rd_en = random.sample(range(0, len(rep_en)), 10000)\n",
        "rd_es = random.sample(range(0, len(rep_es)), 10000)\n",
        "rd_ar = random.sample(range(0, len(rep_ar)), 10000)\n",
        "rd_tr = random.sample(range(0, len(rep_tr)), 10000)\n",
        "\n",
        "rd_en_mono = random.sample(range(0, len(rep_en_mono)), 10000)\n"
      ],
      "metadata": {
        "id": "VXwFcMCreMgJ"
      },
      "execution_count": null,
      "outputs": []
    },
    {
      "cell_type": "code",
      "source": [
        "selected_su  = [rep_su[index] for index in rd_su]\n",
        "selected_sw  = [rep_sw[index] for index in rd_sw]\n",
        "selected_en  = [rep_en[index] for index in rd_en]\n",
        "selected_es  = [rep_es[index] for index in rd_es]\n",
        "selected_ar  = [rep_ar[index] for index in rd_ar]\n",
        "selected_tr  = [rep_tr[index] for index in rd_tr]\n",
        "\n",
        "selected_en_mono  = [rep_en_mono[index] for index in rd_en_mono]"
      ],
      "metadata": {
        "id": "oI2cBJngfZI9"
      },
      "execution_count": null,
      "outputs": []
    },
    {
      "cell_type": "code",
      "source": [
        "#### Saving Representations\n",
        "np.save(\"selected_su.npy\", np.asarray(selected_su))\n",
        "np.save(\"selected_sw.npy\", np.asarray(selected_sw))\n",
        "np.save(\"selected_en.npy\", np.asarray(selected_en))\n",
        "np.save(\"selected_es.npy\", np.asarray(selected_es))\n",
        "np.save(\"selected_ar.npy\", np.asarray(selected_ar))\n",
        "np.save(\"selected_tr.npy\", np.asarray(selected_tr))\n",
        "\n",
        "np.save(\"selected_en_monoe.npy\", np.asarray(selected_en_mono))"
      ],
      "metadata": {
        "id": "mq_q3vaCfudj"
      },
      "execution_count": null,
      "outputs": []
    },
    {
      "cell_type": "code",
      "source": [
        "### Loading Representations\n",
        "model = 'BERT'\n",
        "selected_su = np.load('/content/drive/Shareddrives/Unlimited/multi-iso/'+model+'/selected_su.npy')\n",
        "selected_sw = np.load('/content/drive/Shareddrives/Unlimited/multi-iso/'+model+'/selected_sw.npy')\n",
        "selected_en = np.load('/content/drive/Shareddrives/Unlimited/multi-iso/'+model+'/selected_en.npy')\n",
        "selected_es = np.load('/content/drive/Shareddrives/Unlimited/multi-iso/'+model+'/selected_es.npy')\n",
        "selected_ar = np.load('/content/drive/Shareddrives/Unlimited/multi-iso/'+model+'/selected_ar.npy')\n",
        "selected_tr = np.load('/content/drive/Shareddrives/Unlimited/multi-iso/'+model+'/selected_tr.npy')\n",
        "selected_en_mono = np.load('/content/drive/Shareddrives/Unlimited/multi-iso/'+model+'/selected_en_monoe.npy')"
      ],
      "metadata": {
        "id": "EwdSCrq2yASf"
      },
      "execution_count": 46,
      "outputs": []
    },
    {
      "cell_type": "code",
      "source": [
        "model_contribution =[]\n",
        "\n",
        "model_contribution.append(Cosine_Contribution(selected_su, 3))\n",
        "model_contribution.append(Cosine_Contribution(selected_sw, 3))\n",
        "model_contribution.append(Cosine_Contribution(selected_en, 3))\n",
        "model_contribution.append(Cosine_Contribution(selected_es, 3))\n",
        "model_contribution.append(Cosine_Contribution(selected_ar, 3))\n",
        "model_contribution.append(Cosine_Contribution(selected_tr, 3))\n",
        "model_contribution.append(Cosine_Contribution(selected_en_mono, 3))\n",
        "\n",
        "model_contribution = np.asarray(model_contribution)\n",
        "\n",
        "t_file = open(model+\"-contribution.txt\", \"w\")\n",
        "for row in model_contribution:\n",
        "    np.savetxt(t_file, row)\n",
        "\n",
        "t_file.close()\n"
      ],
      "metadata": {
        "id": "oDp1B4B11I0N"
      },
      "execution_count": null,
      "outputs": []
    },
    {
      "cell_type": "code",
      "metadata": {
        "colab": {
          "base_uri": "https://localhost:8080/"
        },
        "id": "Y73AYZoEGIiy",
        "outputId": "dcd97631-05b4-460a-b699-b8ba3530508f"
      },
      "source": [
        "isotropy(selected_su)"
      ],
      "execution_count": 51,
      "outputs": [
        {
          "output_type": "execute_result",
          "data": {
            "text/plain": [
              "0.00012216606"
            ]
          },
          "metadata": {},
          "execution_count": 51
        }
      ]
    },
    {
      "cell_type": "code",
      "source": [
        "#### Visualization\n",
        "\n",
        "\n",
        "plt.rcParams[\"figure.figsize\"] = (30,3)\n",
        "x = np.arange(dimension)\n",
        "\n",
        "st = np.std(selected_su)*3\n",
        "m = np.mean(selected_su)\n",
        "x = np.arange(dimension)\n",
        "\n",
        "figure(figsize=(23, 3), dpi=80)\n",
        "fig= plt.bar(x,np.mean(selected_su, axis = 0), color='#073b4c',width=2)\n",
        "plt.xlim([0, dimension])\n",
        "plt.ylim([-2, 2])\n",
        "plt.xticks(fontsize=30 )\n",
        "clrs = sns.color_palette(\"pastel\", 8)\n",
        "plt.yticks(fontsize=30 )\n",
        "plt.yticks(np.arange(-2, 2.1, 2))\n",
        "plt.fill_between(x, m-st, m+st ,alpha=0.5, facecolor=clrs[7])\n",
        "\n",
        "plt.show()"
      ],
      "metadata": {
        "colab": {
          "base_uri": "https://localhost:8080/",
          "height": 202
        },
        "id": "8ek4mzES_rXF",
        "outputId": "690fef5f-e820-4ea6-81fb-49cccaf9a485"
      },
      "execution_count": 48,
      "outputs": [
        {
          "output_type": "display_data",
          "data": {
            "text/plain": [
              "<Figure size 1840x240 with 1 Axes>"
            ],
            "image/png": "[encoded data removed]"
          },
          "metadata": {
            "needs_background": "light"
          }
        }
      ]
    }
  ]
}